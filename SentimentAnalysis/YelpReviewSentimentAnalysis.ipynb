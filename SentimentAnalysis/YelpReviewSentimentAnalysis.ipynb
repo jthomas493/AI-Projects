{
 "cells": [
  {
   "cell_type": "markdown",
   "metadata": {},
   "source": [
    "### Install and Import Dependencies"
   ]
  },
  {
   "cell_type": "code",
   "execution_count": 1,
   "metadata": {},
   "outputs": [
    {
     "name": "stdout",
     "output_type": "stream",
     "text": [
      "Looking in links: https://download.pytorch.org/whl/torch_stable.html\n",
      "Collecting torch==1.8.1+cu111\n",
      "  Downloading https://download.pytorch.org/whl/cu111/torch-1.8.1%2Bcu111-cp38-cp38-win_amd64.whl (3055.7 MB)\n",
      "Collecting torchvision==0.9.1+cu111\n",
      "  Downloading https://download.pytorch.org/whl/cu111/torchvision-0.9.1%2Bcu111-cp38-cp38-win_amd64.whl (1.9 MB)\n",
      "Collecting torchaudio===0.8.1\n",
      "  Downloading torchaudio-0.8.1-cp38-none-win_amd64.whl (109 kB)\n",
      "Requirement already satisfied: numpy in c:\\users\\james\\anaconda3\\lib\\site-packages (from torch==1.8.1+cu111) (1.18.5)\n",
      "Requirement already satisfied: typing-extensions in c:\\users\\james\\anaconda3\\lib\\site-packages (from torch==1.8.1+cu111) (3.7.4.3)\n",
      "Requirement already satisfied: pillow>=4.1.1 in c:\\users\\james\\anaconda3\\lib\\site-packages (from torchvision==0.9.1+cu111) (7.2.0)\n",
      "Installing collected packages: torch, torchvision, torchaudio\n",
      "Successfully installed torch-1.8.1+cu111 torchaudio-0.8.1 torchvision-0.9.1+cu111\n"
     ]
    }
   ],
   "source": [
    "# Install Pytorch\n",
    "!pip3 install torch==1.8.1+cu111 torchvision==0.9.1+cu111 torchaudio===0.8.1 -f https://download.pytorch.org/whl/torch_stable.html"
   ]
  },
  {
   "cell_type": "code",
   "execution_count": 2,
   "metadata": {},
   "outputs": [
    {
     "name": "stdout",
     "output_type": "stream",
     "text": [
      "Collecting transformers\n",
      "  Downloading transformers-4.6.1-py3-none-any.whl (2.2 MB)\n",
      "Requirement already satisfied: numpy>=1.17 in c:\\users\\james\\anaconda3\\lib\\site-packages (from transformers) (1.18.5)\n",
      "Collecting sacremoses\n",
      "  Downloading sacremoses-0.0.45-py3-none-any.whl (895 kB)\n",
      "Requirement already satisfied: tqdm>=4.27 in c:\\users\\james\\anaconda3\\lib\\site-packages (from transformers) (4.48.2)\n",
      "Requirement already satisfied: regex!=2019.12.17 in c:\\users\\james\\anaconda3\\lib\\site-packages (from transformers) (2020.7.14)\n",
      "Collecting tokenizers<0.11,>=0.10.1\n",
      "  Downloading tokenizers-0.10.3-cp38-cp38-win_amd64.whl (2.0 MB)\n",
      "Requirement already satisfied: requests in c:\\users\\james\\anaconda3\\lib\\site-packages (from transformers) (2.24.0)\n",
      "Requirement already satisfied: packaging in c:\\users\\james\\anaconda3\\lib\\site-packages (from transformers) (20.4)\n",
      "Requirement already satisfied: filelock in c:\\users\\james\\anaconda3\\lib\\site-packages (from transformers) (3.0.12)\n",
      "Collecting huggingface-hub==0.0.8\n",
      "  Downloading huggingface_hub-0.0.8-py3-none-any.whl (34 kB)\n",
      "Requirement already satisfied: joblib in c:\\users\\james\\anaconda3\\lib\\site-packages (from sacremoses->transformers) (0.17.0)\n",
      "Requirement already satisfied: six in c:\\users\\james\\anaconda3\\lib\\site-packages (from sacremoses->transformers) (1.15.0)\n",
      "Requirement already satisfied: click in c:\\users\\james\\anaconda3\\lib\\site-packages (from sacremoses->transformers) (7.1.2)\n",
      "Requirement already satisfied: chardet<4,>=3.0.2 in c:\\users\\james\\anaconda3\\lib\\site-packages (from requests->transformers) (3.0.4)\n",
      "Requirement already satisfied: urllib3!=1.25.0,!=1.25.1,<1.26,>=1.21.1 in c:\\users\\james\\anaconda3\\lib\\site-packages (from requests->transformers) (1.25.10)\n",
      "Requirement already satisfied: idna<3,>=2.5 in c:\\users\\james\\anaconda3\\lib\\site-packages (from requests->transformers) (2.10)\n",
      "Requirement already satisfied: certifi>=2017.4.17 in c:\\users\\james\\anaconda3\\lib\\site-packages (from requests->transformers) (2020.6.20)\n",
      "Requirement already satisfied: pyparsing>=2.0.2 in c:\\users\\james\\anaconda3\\lib\\site-packages (from packaging->transformers) (2.4.7)\n",
      "Installing collected packages: sacremoses, tokenizers, huggingface-hub, transformers\n",
      "Successfully installed huggingface-hub-0.0.8 sacremoses-0.0.45 tokenizers-0.10.3 transformers-4.6.1\n"
     ]
    }
   ],
   "source": [
    "# Install Transformers, BeautifulSoup4, numpy, pandas\n",
    "!pip install transformers requests beautifulsoup4 pandas numpy"
   ]
  },
  {
   "cell_type": "code",
   "execution_count": 40,
   "metadata": {},
   "outputs": [],
   "source": [
    "from transformers import AutoTokenizer, AutoModelForSequenceClassification\n",
    "import torch\n",
    "import requests\n",
    "from bs4 import BeautifulSoup\n",
    "import re\n",
    "import pandas as pd\n",
    "import numpy as np"
   ]
  },
  {
   "cell_type": "markdown",
   "metadata": {},
   "source": [
    "### Instantiate Model"
   ]
  },
  {
   "cell_type": "code",
   "execution_count": 5,
   "metadata": {},
   "outputs": [
    {
     "data": {
      "application/vnd.jupyter.widget-view+json": {
       "model_id": "8f48571c264a4de88095d2ac35b6cb06",
       "version_major": 2,
       "version_minor": 0
      },
      "text/plain": [
       "HBox(children=(FloatProgress(value=0.0, description='Downloading', max=669491321.0, style=ProgressStyle(descri…"
      ]
     },
     "metadata": {},
     "output_type": "display_data"
    },
    {
     "name": "stdout",
     "output_type": "stream",
     "text": [
      "\n"
     ]
    }
   ],
   "source": [
    "tokenizer = AutoTokenizer.from_pretrained('nlptown/bert-base-multilingual-uncased-sentiment')\n",
    "\n",
    "model = AutoModelForSequenceClassification.from_pretrained('nlptown/bert-base-multilingual-uncased-sentiment')\n"
   ]
  },
  {
   "cell_type": "markdown",
   "metadata": {},
   "source": [
    "### Encode and Calculate Sentiment"
   ]
  },
  {
   "cell_type": "code",
   "execution_count": 28,
   "metadata": {},
   "outputs": [],
   "source": [
    "tokens = tokenizer.encode('This was great, but nothing to write home about', return_tensors = 'pt')"
   ]
  },
  {
   "cell_type": "code",
   "execution_count": 29,
   "metadata": {},
   "outputs": [
    {
     "data": {
      "text/plain": [
       "SequenceClassifierOutput(loss=None, logits=tensor([[-0.8711, -0.3766,  0.5909,  0.6413,  0.0248]],\n",
       "       grad_fn=<AddmmBackward>), hidden_states=None, attentions=None)"
      ]
     },
     "execution_count": 29,
     "metadata": {},
     "output_type": "execute_result"
    }
   ],
   "source": [
    "result = model(tokens)\n",
    "\n",
    "result"
   ]
  },
  {
   "cell_type": "code",
   "execution_count": 30,
   "metadata": {},
   "outputs": [
    {
     "data": {
      "text/plain": [
       "tensor([[-0.8711, -0.3766,  0.5909,  0.6413,  0.0248]],\n",
       "       grad_fn=<AddmmBackward>)"
      ]
     },
     "execution_count": 30,
     "metadata": {},
     "output_type": "execute_result"
    }
   ],
   "source": [
    "result.logits"
   ]
  },
  {
   "cell_type": "code",
   "execution_count": 31,
   "metadata": {},
   "outputs": [
    {
     "data": {
      "text/plain": [
       "4"
      ]
     },
     "execution_count": 31,
     "metadata": {},
     "output_type": "execute_result"
    }
   ],
   "source": [
    "int(torch.argmax(result.logits))+1"
   ]
  },
  {
   "cell_type": "markdown",
   "metadata": {},
   "source": [
    "#### Collect Reviews"
   ]
  },
  {
   "cell_type": "code",
   "execution_count": 37,
   "metadata": {},
   "outputs": [],
   "source": [
    "r = requests.get('https://www.yelp.com/biz/143-street-tacos-sierra-vista')\n",
    "soup = BeautifulSoup(r.text, 'html.parser')\n",
    "regex = re.compile('.*comment.*')\n",
    "results = soup.find_all('p', {'class':regex})\n",
    "reviews = [result.text for result in results]"
   ]
  },
  {
   "cell_type": "code",
   "execution_count": 38,
   "metadata": {},
   "outputs": [
    {
     "data": {
      "text/plain": [
       "['This is a gem for sure. A small sort of out of the way taco shop that has the best tacos and burrito snot only in town but probably South Eastern Arizona. \\xa0These are real street taco slightly Americanized. The salsas are excellent and green is hot. All are great and you should just eat your way through menu. Staff is very friendly and fast. From order to pick up is in a few minutes. The burritos are huge be forewarned. We go at least once a week.',\n",
       " 'Such an unmemorable name for a taco joint, yet this was craftily written into our collective memories for a simple food item that truly delivered. Passing through Sierra Vista after a day of exploring, we were in search of tacos and gas, not necessarily in that order. A Yelp search gave us 143 Street Tacos, among other choices. But a street taco sounded like just the ticket. After a circuitous drive, we finally arrived at the somewhat out-of-the-way location. The interior was pleasantly surprising, with a sparkling clean appearance, albeit empty due to CV-19 restrictions. A few people were inside, wearing masks, waiting to order or pickup. A widescreen video monitor showed chicken and beef cooking on a very large grill over a mesquite fire. \\xa0I don\\'t know if it was real, but it certainly stimulated my taste buds. The order takers were very pleasant, and wearing masks. Asked if I wanted sauce and what kind, I said \"give me one of each\". \\xa0After a few minutes of filling containers, I was handed another bag that was at least as heavy as the tacos themselves. With a bag full of carne asada tacos and condiments, we were on our way back to our campground with mouths watering. At our campsite, we unpackaged some of the largest street tacos that we\\'ve ever seen. And delicious they were, with a distinct mesquite-grilled flavor. Several containers of salsa, pico de gallo, limes, roasted jalapeños, sliced cucumbers, and pickled red onion complemented our grand fare. We were tantalized. We were ecstatic. We were full. Most reviews I\\'ve written entertain the question, \"Would I return in the future?\" The answer is a resounding \"Yes!\" \\xa0In fact, we are planning for a return trip to the Sierra Vista/ Bisbee area for more camping, more exploring, and not least...MORE TACOS!',\n",
       " \"We saw that this place was #1 on Yelp for the Sierra Vista area. We were not disappointed. I had the Friday special which was a MOAB Burrito. Since the chulichi (chicken prepared over mesquite ) had great reviews, I selected that as the filling. The biggest and best burrito I've ever had! I couldn't finish it. My wife had a Al Pastor taco and she said it was excellent. One taco pretty much filled her up, but I did share some of my monster burrito. Definitely recommend this restaurant! They now have indoor dining.\",\n",
       " 'Probably one of the best places to grab lunch in Sierra Vista. I have been here several times and never left unhappy. I was also impressed with how quickly the food came out. Authentic Mexican food served fast food style. Highly recommend',\n",
       " \"Forgot to take pics of the tacos because they looked so good I just started eating!Cool place, good vibe. Inside seating available but I got mine to go. Don't forget to ask for all the vegetables and different sauces (salsas).Nothing fancy here, just good street tacos... or at least that's what I got! Pretty decent sized menu. I recommend and will be back to try other things on the menu.\",\n",
       " \"Tried 143 Street Tacos based upon the Yelp reviews. Really great burrito! We got a Mix burrito, with beef and chicken, rice, beans and cabbage all wrapped snugly in a huge tortilla! We got to sample the beef, and oh the seasoning! The flavors were a perfect blend, and they weren't stingy with the meat. There was NO mess, as the tasty tortilla was wrapped just right to hold in all the ingredients. We shared the burrito, and they kindly cut it in half for us.The setup was great, with an order counter on one side and a drink station and pickup window on the other side. The decor was fun, and the tables spaced out well. Everyone had on masks when not eating, even the people coming in for carry out orders. Drinks included horchata, hibiscus, lemonade and melon from the self-serve station. They also had typical sodas.The staff were friendly and helpful. We felt safe and left with happy tummies. They lost a star because the chips were bland. Also, though the side of guac was good the nacho cheese was nothing special. Quite honestly, the burrito was so good I was fine throwing out the nacho cheese side and chips, but still...\",\n",
       " \"Went earlier today. Probably the best authentic Mexican food I've had. The food came out looking homemade which was wonderful s nothing looked frozen etc. I don't remember what I had but a photo is attached. It was very good. When I went to pick my food up from the counter the lady there asked me what sides (salsa, peppers) I want and I said I didn't know. She gave me all of them to try. I also had the steak quesadilla which was also very good.\",\n",
       " \"You can tell everything is homemade! Best tacos I've had in a while, I'll definitely be back!\",\n",
       " 'I had been wanting to try out this place due to its many high reviews. I stopped by yesterday late afternoon for Taco Tuesday. I ordered five carne asada tacos and a chicken \\xa0burrito to go.I like the new location. Tables are spread apart and the decor is bright and upbeat. So many of the photos here, however, are of their old location inside a fitness center and should be removed to avoid confusion. \\xa0The same should go for the outdated prices on the pictured menus.Prices have also been increased quite a bit. Those $7.50 burritos from just a year ago, while huge and filling, are now $12.50. Those $2.50 tacos are now $3.25. \\xa0And somehow the owners want you to add a tip for the employees even though you take your order at a counter and also pick it up at a counter. I will be back for Taco Tuesday in the future, where you can order up to five tacos for $1.99 each. \\xa0That seems to be the only affordable deal now, as a $12.50 burrito compares to sit-down restaurant prices..',\n",
       " \"Aye Dios Mio! Look at this burrito, just look at it! Do I need to say more? Hands down the largest burrito I've ever had. Been in southern Arizona for over ten years and lived in San Diego for ten years before moving here. But is it good? Amazing! Packed full of delicious Mexican flavor! Oh, did I mention the salsas? Look out, they're freshly hand made and you can taste the love that goes into them. The restaurant is spacious and clean with a great vibe. The staff is (and has always been) a pure joy of enthusiasm to cook and serve their customers. I always feel like friend when I eat here. My favorite Mexican restaurant south of Tucson. Gracias!\"]"
      ]
     },
     "execution_count": 38,
     "metadata": {},
     "output_type": "execute_result"
    }
   ],
   "source": [
    "reviews"
   ]
  },
  {
   "cell_type": "code",
   "execution_count": 41,
   "metadata": {},
   "outputs": [],
   "source": [
    "df = pd.DataFrame(np.array(reviews), columns = ['reviews'])"
   ]
  },
  {
   "cell_type": "code",
   "execution_count": 42,
   "metadata": {},
   "outputs": [
    {
     "data": {
      "text/html": [
       "<div>\n",
       "<style scoped>\n",
       "    .dataframe tbody tr th:only-of-type {\n",
       "        vertical-align: middle;\n",
       "    }\n",
       "\n",
       "    .dataframe tbody tr th {\n",
       "        vertical-align: top;\n",
       "    }\n",
       "\n",
       "    .dataframe thead th {\n",
       "        text-align: right;\n",
       "    }\n",
       "</style>\n",
       "<table border=\"1\" class=\"dataframe\">\n",
       "  <thead>\n",
       "    <tr style=\"text-align: right;\">\n",
       "      <th></th>\n",
       "      <th>reviews</th>\n",
       "    </tr>\n",
       "  </thead>\n",
       "  <tbody>\n",
       "    <tr>\n",
       "      <th>0</th>\n",
       "      <td>This is a gem for sure. A small sort of out of...</td>\n",
       "    </tr>\n",
       "    <tr>\n",
       "      <th>1</th>\n",
       "      <td>Such an unmemorable name for a taco joint, yet...</td>\n",
       "    </tr>\n",
       "    <tr>\n",
       "      <th>2</th>\n",
       "      <td>We saw that this place was #1 on Yelp for the ...</td>\n",
       "    </tr>\n",
       "    <tr>\n",
       "      <th>3</th>\n",
       "      <td>Probably one of the best places to grab lunch ...</td>\n",
       "    </tr>\n",
       "    <tr>\n",
       "      <th>4</th>\n",
       "      <td>Forgot to take pics of the tacos because they ...</td>\n",
       "    </tr>\n",
       "    <tr>\n",
       "      <th>5</th>\n",
       "      <td>Tried 143 Street Tacos based upon the Yelp rev...</td>\n",
       "    </tr>\n",
       "    <tr>\n",
       "      <th>6</th>\n",
       "      <td>Went earlier today. Probably the best authenti...</td>\n",
       "    </tr>\n",
       "    <tr>\n",
       "      <th>7</th>\n",
       "      <td>You can tell everything is homemade! Best taco...</td>\n",
       "    </tr>\n",
       "    <tr>\n",
       "      <th>8</th>\n",
       "      <td>I had been wanting to try out this place due t...</td>\n",
       "    </tr>\n",
       "    <tr>\n",
       "      <th>9</th>\n",
       "      <td>Aye Dios Mio! Look at this burrito, just look ...</td>\n",
       "    </tr>\n",
       "  </tbody>\n",
       "</table>\n",
       "</div>"
      ],
      "text/plain": [
       "                                             reviews\n",
       "0  This is a gem for sure. A small sort of out of...\n",
       "1  Such an unmemorable name for a taco joint, yet...\n",
       "2  We saw that this place was #1 on Yelp for the ...\n",
       "3  Probably one of the best places to grab lunch ...\n",
       "4  Forgot to take pics of the tacos because they ...\n",
       "5  Tried 143 Street Tacos based upon the Yelp rev...\n",
       "6  Went earlier today. Probably the best authenti...\n",
       "7  You can tell everything is homemade! Best taco...\n",
       "8  I had been wanting to try out this place due t...\n",
       "9  Aye Dios Mio! Look at this burrito, just look ..."
      ]
     },
     "execution_count": 42,
     "metadata": {},
     "output_type": "execute_result"
    }
   ],
   "source": [
    "df"
   ]
  },
  {
   "cell_type": "code",
   "execution_count": 46,
   "metadata": {},
   "outputs": [],
   "source": [
    "def sentiment_score(review):\n",
    "    tokens = tokenizer.encode(review, return_tensors = 'pt')\n",
    "    result = model(tokens)\n",
    "    return int(torch.argmax(result.logits))+1"
   ]
  },
  {
   "cell_type": "code",
   "execution_count": 47,
   "metadata": {},
   "outputs": [
    {
     "data": {
      "text/plain": [
       "4"
      ]
     },
     "execution_count": 47,
     "metadata": {},
     "output_type": "execute_result"
    }
   ],
   "source": [
    "sentiment_score(df['reviews'].iloc[1])"
   ]
  },
  {
   "cell_type": "code",
   "execution_count": 49,
   "metadata": {},
   "outputs": [],
   "source": [
    "df['sentiment'] = df['reviews'].apply(lambda x: sentiment_score(x[:512]))"
   ]
  },
  {
   "cell_type": "code",
   "execution_count": 50,
   "metadata": {},
   "outputs": [
    {
     "data": {
      "text/html": [
       "<div>\n",
       "<style scoped>\n",
       "    .dataframe tbody tr th:only-of-type {\n",
       "        vertical-align: middle;\n",
       "    }\n",
       "\n",
       "    .dataframe tbody tr th {\n",
       "        vertical-align: top;\n",
       "    }\n",
       "\n",
       "    .dataframe thead th {\n",
       "        text-align: right;\n",
       "    }\n",
       "</style>\n",
       "<table border=\"1\" class=\"dataframe\">\n",
       "  <thead>\n",
       "    <tr style=\"text-align: right;\">\n",
       "      <th></th>\n",
       "      <th>reviews</th>\n",
       "      <th>sentiment</th>\n",
       "    </tr>\n",
       "  </thead>\n",
       "  <tbody>\n",
       "    <tr>\n",
       "      <th>0</th>\n",
       "      <td>This is a gem for sure. A small sort of out of...</td>\n",
       "      <td>5</td>\n",
       "    </tr>\n",
       "    <tr>\n",
       "      <th>1</th>\n",
       "      <td>Such an unmemorable name for a taco joint, yet...</td>\n",
       "      <td>4</td>\n",
       "    </tr>\n",
       "    <tr>\n",
       "      <th>2</th>\n",
       "      <td>We saw that this place was #1 on Yelp for the ...</td>\n",
       "      <td>5</td>\n",
       "    </tr>\n",
       "    <tr>\n",
       "      <th>3</th>\n",
       "      <td>Probably one of the best places to grab lunch ...</td>\n",
       "      <td>5</td>\n",
       "    </tr>\n",
       "    <tr>\n",
       "      <th>4</th>\n",
       "      <td>Forgot to take pics of the tacos because they ...</td>\n",
       "      <td>4</td>\n",
       "    </tr>\n",
       "    <tr>\n",
       "      <th>5</th>\n",
       "      <td>Tried 143 Street Tacos based upon the Yelp rev...</td>\n",
       "      <td>5</td>\n",
       "    </tr>\n",
       "    <tr>\n",
       "      <th>6</th>\n",
       "      <td>Went earlier today. Probably the best authenti...</td>\n",
       "      <td>5</td>\n",
       "    </tr>\n",
       "    <tr>\n",
       "      <th>7</th>\n",
       "      <td>You can tell everything is homemade! Best taco...</td>\n",
       "      <td>5</td>\n",
       "    </tr>\n",
       "    <tr>\n",
       "      <th>8</th>\n",
       "      <td>I had been wanting to try out this place due t...</td>\n",
       "      <td>4</td>\n",
       "    </tr>\n",
       "    <tr>\n",
       "      <th>9</th>\n",
       "      <td>Aye Dios Mio! Look at this burrito, just look ...</td>\n",
       "      <td>5</td>\n",
       "    </tr>\n",
       "  </tbody>\n",
       "</table>\n",
       "</div>"
      ],
      "text/plain": [
       "                                             reviews  sentiment\n",
       "0  This is a gem for sure. A small sort of out of...          5\n",
       "1  Such an unmemorable name for a taco joint, yet...          4\n",
       "2  We saw that this place was #1 on Yelp for the ...          5\n",
       "3  Probably one of the best places to grab lunch ...          5\n",
       "4  Forgot to take pics of the tacos because they ...          4\n",
       "5  Tried 143 Street Tacos based upon the Yelp rev...          5\n",
       "6  Went earlier today. Probably the best authenti...          5\n",
       "7  You can tell everything is homemade! Best taco...          5\n",
       "8  I had been wanting to try out this place due t...          4\n",
       "9  Aye Dios Mio! Look at this burrito, just look ...          5"
      ]
     },
     "execution_count": 50,
     "metadata": {},
     "output_type": "execute_result"
    }
   ],
   "source": [
    "df"
   ]
  },
  {
   "cell_type": "code",
   "execution_count": 51,
   "metadata": {},
   "outputs": [
    {
     "data": {
      "text/plain": [
       "'Probably one of the best places to grab lunch in Sierra Vista. I have been here several times and never left unhappy. I was also impressed with how quickly the food came out. Authentic Mexican food served fast food style. Highly recommend'"
      ]
     },
     "execution_count": 51,
     "metadata": {},
     "output_type": "execute_result"
    }
   ],
   "source": [
    "df['reviews'].iloc[3]"
   ]
  },
  {
   "cell_type": "code",
   "execution_count": 52,
   "metadata": {},
   "outputs": [
    {
     "data": {
      "text/plain": [
       "4.7"
      ]
     },
     "execution_count": 52,
     "metadata": {},
     "output_type": "execute_result"
    }
   ],
   "source": [
    "df['sentiment'].mean()"
   ]
  },
  {
   "cell_type": "code",
   "execution_count": null,
   "metadata": {},
   "outputs": [],
   "source": []
  }
 ],
 "metadata": {
  "kernelspec": {
   "display_name": "Python 3",
   "language": "python",
   "name": "python3"
  },
  "language_info": {
   "codemirror_mode": {
    "name": "ipython",
    "version": 3
   },
   "file_extension": ".py",
   "mimetype": "text/x-python",
   "name": "python",
   "nbconvert_exporter": "python",
   "pygments_lexer": "ipython3",
   "version": "3.8.3"
  }
 },
 "nbformat": 4,
 "nbformat_minor": 4
}
